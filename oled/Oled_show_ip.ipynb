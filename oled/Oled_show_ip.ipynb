{
 "cells": [
  {
   "cell_type": "code",
   "execution_count": null,
   "metadata": {},
   "outputs": [],
   "source": [
    "import time\n",
    "\n",
    "import Adafruit_GPIO.SPI as SPI\n",
    "import Adafruit_SSD1306\n",
    "\n",
    "from PIL import Image\n",
    "from PIL import ImageDraw\n",
    "from PIL import ImageFont"
   ]
  },
  {
   "cell_type": "code",
   "execution_count": null,
   "metadata": {},
   "outputs": [],
   "source": [
    "disp = Adafruit_SSD1306.SSD1306_128_32(rst=None, i2c_bus=1, gpio=1)\n",
    "\n",
    "# Initialize library.\n",
    "disp.begin()\n",
    "\n",
    "# Clear display.\n",
    "disp.clear()\n",
    "disp.display()\n",
    "\n",
    "# Create blank image for drawing.\n",
    "# Make sure to create image with mode '1' for 1-bit color.\n",
    "width = disp.width\n",
    "height = disp.height\n",
    "image = Image.new('1', (width, height))\n",
    "\n",
    "# Get drawing object to draw on image.\n",
    "draw = ImageDraw.Draw(image)\n",
    "\n",
    "# Draw a black filled box to clear the image.\n",
    "draw.rectangle((0,0,width,height), outline=0, fill=0)\n",
    "\n",
    "# Draw some shapes.\n",
    "# First define some constants to allow easy resizing of shapes.\n",
    "padding = -2\n",
    "top = padding\n",
    "bottom = height-padding\n",
    "# Move left to right keeping track of the current x position for drawing shapes.\n",
    "x = 10\n",
    "\n",
    "\n",
    "# Load default font.\n",
    "# font = ImageFont.load_default()\n",
    "\n",
    "# Alternatively load a TTF font.  Make sure the .ttf font file is in the same directory as the python script!\n",
    "# Some other nice fonts to try: http://www.dafont.com/bitmap.php\n",
    "font1 = ImageFont.truetype('editundo.ttf', 16)\n",
    "font2 = ImageFont.truetype('small_pixel-7.ttf', 14)"
   ]
  },
  {
   "cell_type": "code",
   "execution_count": null,
   "metadata": {},
   "outputs": [],
   "source": [
    "import subprocess\n",
    "\n",
    "while True:\n",
    "\n",
    "    # Draw a black filled box to clear the image.\n",
    "    draw.rectangle((0,0,width,height), outline=0, fill=0)\n",
    "    \n",
    "    cmd = \"hostname -I | cut -d\\' \\' -f1\"\n",
    "    IP = subprocess.check_output(cmd, shell = True )\n",
    "\n",
    "    # Write two lines of text.\n",
    "    localdate = time.strftime(\"%m-%d %a\", time.localtime()) \n",
    "    localtime = time.strftime(\"%H:%M:%S\", time.localtime()) \n",
    "    draw.text((x, top),\"Hi! BillioCar\", font=font1, fill=255)\n",
    "#     draw.text((x+27, top+13),localdate, font=font2, fill=255)\n",
    "    draw.text((x+8, top+11),str(IP)[2:-3],  font=font2, fill=255)\n",
    "    draw.text((x+30, top+20),localtime, font=font2, fill=255)\n",
    "\n",
    "\n",
    "    # Display image.\n",
    "    disp.image(image)\n",
    "    disp.display()\n",
    "    time.sleep(.1)"
   ]
  },
  {
   "cell_type": "code",
   "execution_count": 8,
   "metadata": {},
   "outputs": [],
   "source": [
    "# Clear display.\n",
    "disp.clear()\n",
    "disp.display()"
   ]
  },
  {
   "cell_type": "code",
   "execution_count": 12,
   "metadata": {},
   "outputs": [],
   "source": [
    "image = Image.open('bcar1.ppm').convert('1')\n",
    "\n",
    "# Display image.\n",
    "disp.image(image)\n",
    "disp.display()"
   ]
  },
  {
   "cell_type": "code",
   "execution_count": null,
   "metadata": {},
   "outputs": [],
   "source": []
  }
 ],
 "metadata": {
  "kernelspec": {
   "display_name": "Python 3",
   "language": "python",
   "name": "python3"
  },
  "language_info": {
   "codemirror_mode": {
    "name": "ipython",
    "version": 3
   },
   "file_extension": ".py",
   "mimetype": "text/x-python",
   "name": "python",
   "nbconvert_exporter": "python",
   "pygments_lexer": "ipython3",
   "version": "3.6.9"
  }
 },
 "nbformat": 4,
 "nbformat_minor": 4
}
