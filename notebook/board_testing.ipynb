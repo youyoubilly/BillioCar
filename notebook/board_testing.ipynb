{
 "cells": [
  {
   "cell_type": "code",
   "execution_count": 1,
   "metadata": {},
   "outputs": [
    {
     "name": "stdout",
     "output_type": "stream",
     "text": [
      "     0  1  2  3  4  5  6  7  8  9  a  b  c  d  e  f\n",
      "00: -- -- -- -- -- -- -- -- -- -- -- -- -- -- -- -- \n",
      "10: -- -- -- -- -- -- -- -- -- -- -- -- -- -- -- -- \n",
      "20: -- -- -- -- -- -- -- -- -- -- -- -- -- -- -- -- \n",
      "30: -- -- -- -- -- -- -- -- -- -- -- -- -- -- -- -- \n",
      "40: 40 -- -- -- -- -- -- -- -- -- -- -- -- -- -- -- \n",
      "50: -- -- -- -- -- -- -- -- -- -- -- -- -- -- -- -- \n",
      "60: -- -- -- -- -- -- -- -- -- -- -- -- -- -- -- -- \n",
      "70: 70 -- -- -- -- -- -- -- -- -- -- -- -- -- -- -- \n"
     ]
    }
   ],
   "source": [
    "!sudo i2cdetect -y -r -a 1"
   ]
  },
  {
   "cell_type": "code",
   "execution_count": 2,
   "metadata": {},
   "outputs": [
    {
     "name": "stdout",
     "output_type": "stream",
     "text": [
      "/home/bbot/projects/A_github_project/bcar/notebook\n"
     ]
    }
   ],
   "source": [
    "#Checking current working address\n",
    "import os\n",
    "print(os.getcwd())"
   ]
  },
  {
   "cell_type": "code",
   "execution_count": 3,
   "metadata": {},
   "outputs": [
    {
     "name": "stdout",
     "output_type": "stream",
     "text": [
      "/home/bbot/projects/A_github_project\n"
     ]
    }
   ],
   "source": [
    "#Changing working address to import cam_pantilt and billiocar\n",
    "os.chdir('../..')\n",
    "print(os.getcwd())"
   ]
  },
  {
   "cell_type": "code",
   "execution_count": 4,
   "metadata": {},
   "outputs": [],
   "source": [
    "# import bcar.motordriver as md\n",
    "# motor = md.PCA9685()"
   ]
  },
  {
   "cell_type": "code",
   "execution_count": 5,
   "metadata": {},
   "outputs": [],
   "source": [
    "import Adafruit_PCA9685\n",
    "#Initialize PCA9685 board\n",
    "# pwm = Adafruit_PCA9685.PCA9685(address=0x43, busnum=0)\n",
    "pwm = Adafruit_PCA9685.PCA9685(address=0x40, busnum=1)\n",
    "pwm.set_pwm_freq(50)"
   ]
  },
  {
   "cell_type": "code",
   "execution_count": 4,
   "metadata": {},
   "outputs": [],
   "source": [
    "#Signal and EnA by PWM, setting for each motor\n",
    "# m1_sig, m1_in1, m1_in2 = 4, 0, 1\n",
    "# m2_sig, m2_in1, m2_in2 = 5, 2, 3\n",
    "# stby = 6"
   ]
  },
  {
   "cell_type": "code",
   "execution_count": null,
   "metadata": {},
   "outputs": [],
   "source": [
    "#DIY Board\n",
    "m1_sig, m1_in1, m1_in2 = 0, 2, 1\n",
    "m2_sig, m2_in1, m2_in2 = 5, 3, 4\n",
    "m3_sig, m3_in1, m3_in2 = 6, 8, 7\n",
    "m4_sig, m4_in1, m4_in2 = 11, 9, 10"
   ]
  },
  {
   "cell_type": "code",
   "execution_count": 4,
   "metadata": {},
   "outputs": [],
   "source": [
    "HIGH = 4095\n",
    "LOW = 0"
   ]
  },
  {
   "cell_type": "code",
   "execution_count": null,
   "metadata": {},
   "outputs": [],
   "source": []
  },
  {
   "cell_type": "code",
   "execution_count": 35,
   "metadata": {},
   "outputs": [],
   "source": [
    "pwm.set_pwm(stby, 0, HIGH)"
   ]
  },
  {
   "cell_type": "code",
   "execution_count": 34,
   "metadata": {},
   "outputs": [],
   "source": [
    "pwm.set_pwm(stby, 0, LOW)"
   ]
  },
  {
   "cell_type": "code",
   "execution_count": null,
   "metadata": {},
   "outputs": [],
   "source": []
  },
  {
   "cell_type": "code",
   "execution_count": 5,
   "metadata": {},
   "outputs": [],
   "source": [
    "pwm.set_pwm(m1_in1, 0, HIGH)\n",
    "pwm.set_pwm(m1_in2, 0, LOW)"
   ]
  },
  {
   "cell_type": "code",
   "execution_count": 6,
   "metadata": {},
   "outputs": [],
   "source": [
    "pwm.set_pwm(m1_sig, 0, HIGH)"
   ]
  },
  {
   "cell_type": "code",
   "execution_count": 7,
   "metadata": {},
   "outputs": [],
   "source": [
    "pwm.set_pwm(m1_sig, 0, LOW)"
   ]
  },
  {
   "cell_type": "code",
   "execution_count": null,
   "metadata": {},
   "outputs": [],
   "source": []
  },
  {
   "cell_type": "code",
   "execution_count": 8,
   "metadata": {},
   "outputs": [],
   "source": [
    "pwm.set_pwm(m2_in1, 0, HIGH)\n",
    "pwm.set_pwm(m2_in2, 0, LOW)"
   ]
  },
  {
   "cell_type": "code",
   "execution_count": 12,
   "metadata": {},
   "outputs": [],
   "source": [
    "pwm.set_pwm(m2_sig, 0, HIGH)"
   ]
  },
  {
   "cell_type": "code",
   "execution_count": 10,
   "metadata": {},
   "outputs": [],
   "source": [
    "pwm.set_pwm(m2_sig, 0, LOW)"
   ]
  },
  {
   "cell_type": "code",
   "execution_count": null,
   "metadata": {},
   "outputs": [],
   "source": []
  },
  {
   "cell_type": "code",
   "execution_count": 11,
   "metadata": {},
   "outputs": [],
   "source": [
    "pwm.set_pwm(m2_in1, 0, LOW)\n",
    "pwm.set_pwm(m2_in2, 0, HIGH)"
   ]
  },
  {
   "cell_type": "code",
   "execution_count": 13,
   "metadata": {},
   "outputs": [],
   "source": [
    "pwm.set_pwm(m2_in1, 0, LOW)\n",
    "pwm.set_pwm(m2_in2, 0, LOW)"
   ]
  },
  {
   "cell_type": "code",
   "execution_count": null,
   "metadata": {},
   "outputs": [],
   "source": []
  }
 ],
 "metadata": {
  "kernelspec": {
   "display_name": "Python 3",
   "language": "python",
   "name": "python3"
  },
  "language_info": {
   "codemirror_mode": {
    "name": "ipython",
    "version": 3
   },
   "file_extension": ".py",
   "mimetype": "text/x-python",
   "name": "python",
   "nbconvert_exporter": "python",
   "pygments_lexer": "ipython3",
   "version": "3.6.9"
  }
 },
 "nbformat": 4,
 "nbformat_minor": 4
}
