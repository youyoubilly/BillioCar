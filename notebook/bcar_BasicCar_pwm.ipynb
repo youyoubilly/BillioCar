{
 "cells": [
  {
   "cell_type": "code",
   "execution_count": null,
   "metadata": {},
   "outputs": [],
   "source": [
    "!sudo i2cdetect -y -r -a 1"
   ]
  },
  {
   "cell_type": "code",
   "execution_count": 2,
   "metadata": {},
   "outputs": [],
   "source": [
    "import time\n",
    "import Adafruit_PCA9685\n",
    "import time"
   ]
  },
  {
   "cell_type": "code",
   "execution_count": 3,
   "metadata": {},
   "outputs": [],
   "source": [
    "#Motor pwm channels\n",
    "m1_sig, m1_in1, m1_in2 = 0, 1, 2\n",
    "m2_sig, m2_in1, m2_in2 = 3, 4, 5\n",
    "m3_sig, m3_in1, m3_in2 = 6, 7, 8\n",
    "m4_sig, m4_in1, m4_in2 = 9, 10, 11"
   ]
  },
  {
   "cell_type": "code",
   "execution_count": 4,
   "metadata": {},
   "outputs": [],
   "source": [
    "pwm = Adafruit_PCA9685.PCA9685(address=0x40, busnum=1)\n",
    "pwm.set_pwm_freq(50)"
   ]
  },
  {
   "cell_type": "code",
   "execution_count": null,
   "metadata": {},
   "outputs": [],
   "source": [
    "HIGH = 4096\n",
    "LOW = 0\n",
    "\n",
    "def forward():\n",
    "    pwm.set_pwm(m1_in1, 0, HIGH)\n",
    "    pwm.set_pwm(m1_in2, 0, LOW)\n",
    "    pwm.set_pwm(m2_in1, 0, HIGH)\n",
    "    pwm.set_pwm(m2_in2, 0, LOW)\n",
    "    pwm.set_pwm(m3_in1, 0, HIGH)\n",
    "    pwm.set_pwm(m3_in2, 0, LOW)\n",
    "    pwm.set_pwm(m4_in1, 0, HIGH)\n",
    "    pwm.set_pwm(m4_in2, 0, LOW)\n",
    "\n",
    "def backward():\n",
    "    pwm.set_pwm(m1_in2, 0, HIGH)\n",
    "    pwm.set_pwm(m1_in1, 0, LOW)\n",
    "    pwm.set_pwm(m2_in2, 0, HIGH)\n",
    "    pwm.set_pwm(m2_in1, 0, LOW)\n",
    "    pwm.set_pwm(m3_in2, 0, HIGH)\n",
    "    pwm.set_pwm(m3_in1, 0, LOW)\n",
    "    pwm.set_pwm(m4_in2, 0, HIGH)\n",
    "    pwm.set_pwm(m4_in1, 0, LOW)\n",
    "\n",
    "def stop():\n",
    "    pwm.set_pwm(m1_sig, 0, 0)\n",
    "    pwm.set_pwm(m2_sig, 0, 0)\n",
    "    pwm.set_pwm(m3_sig, 0, 0)\n",
    "    pwm.set_pwm(m4_sig, 0, 0)\n",
    "    \n",
    "def move(m1=0, m2=0, m3=0, m4=0):\n",
    "    pwm.set_pwm(m1_sig, 0, m1)\n",
    "    pwm.set_pwm(m2_sig, 0, m2)\n",
    "    pwm.set_pwm(m3_sig, 0, m3)\n",
    "    pwm.set_pwm(m4_sig, 0, m4)\n",
    "\n",
    "def set_servo_angle(channel,angle):\n",
    "    date=4096*((angle*11)+500)/20000 + 0.5\n",
    "    pwm.set_pwm(channel,0,int(date))"
   ]
  },
  {
   "cell_type": "code",
   "execution_count": null,
   "metadata": {},
   "outputs": [],
   "source": [
    "forward()"
   ]
  },
  {
   "cell_type": "code",
   "execution_count": null,
   "metadata": {},
   "outputs": [],
   "source": [
    "move(m1=4000, m2=4000, m3=4000, m4=4000)"
   ]
  }
 ],
 "metadata": {
  "kernelspec": {
   "display_name": "Python 3",
   "language": "python",
   "name": "python3"
  },
  "language_info": {
   "codemirror_mode": {
    "name": "ipython",
    "version": 3
   },
   "file_extension": ".py",
   "mimetype": "text/x-python",
   "name": "python",
   "nbconvert_exporter": "python",
   "pygments_lexer": "ipython3",
   "version": "3.6.9"
  }
 },
 "nbformat": 4,
 "nbformat_minor": 4
}
